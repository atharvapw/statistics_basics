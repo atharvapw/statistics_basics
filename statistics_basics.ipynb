{
  "nbformat": 4,
  "nbformat_minor": 0,
  "metadata": {
    "colab": {
      "provenance": []
    },
    "kernelspec": {
      "name": "python3",
      "display_name": "Python 3"
    },
    "language_info": {
      "name": "python"
    }
  },
  "cells": [
    {
      "cell_type": "markdown",
      "source": [
        "# ***Statistics Basics | Assignment***\n",
        "\n",
        "1. What is the difference between descriptive statistics and inferential\n",
        "statistics? Explain with examples.\n",
        "\n",
        "Descriptive Statistics:\n",
        "\n",
        "* Descriptive statistics summarizes and organizes data so it can be easily understood. It uses measures like mean, median, mode, standard deviation, and graphs (histograms, pie charts, boxplots).\n",
        "* Example: If the marks of 50 students in a class are collected, descriptive statistics can give us the average mark, the highest and lowest marks, and display the distribution in a histogram.\n",
        "\n",
        "* Inferential Statistics:\n",
        "Inferential statistics makes predictions or inferences about a population based on a sample. It uses techniques like hypothesis testing, confidence intervals, and regression.\n",
        "\n",
        "* Example: By surveying 200 voters in a city, inferential statistics can predict the voting preference of the entire population.\n",
        "\n",
        "\n",
        "2. What is sampling in statistics? Explain the differences between random\n",
        "and stratified sampling.\n",
        "\n",
        "* Sampling: The process of selecting a subset (sample) from a larger group (population) to study and draw conclusions about the whole population.\n",
        "\n",
        "* Random Sampling: Each member of the population has an equal chance of being selected.\n",
        "* *Example:* Drawing 50 names randomly from a box containing 500 student names.\n",
        "\n",
        "* Stratified Sampling: The population is divided into subgroups (strata) based on characteristics (like age, gender, income), and random samples are taken from each group proportionally.\n",
        "* *Example:* If a college has 60% male and 40% female students, a stratified sample of 100 students would include 60 males and 40 females.\n",
        "\n",
        "3. Define mean, median, and mode. Explain why these measures of central tendency are important.\n",
        "\n",
        "* Mean (Average): The sum of all values divided by the number of values.\n",
        "\n",
        "* Median: The middle value when the data is ordered. If even number of values, it is the average of the two middle values.\n",
        "\n",
        "* Mode: The most frequently occurring value in the dataset.\n",
        "\n",
        "* Importance: They are measures of central tendency, giving us an idea of the “typical” value in the dataset. They simplify large data into a single representative number, helping in comparisons and decision-making.\n",
        "\n",
        "\n",
        "4. Explain skewness and kurtosis. What does a positive skew imply about the data?\n",
        "\n",
        "* Skewness: Measures asymmetry of data distribution.\n",
        "\n",
        "* Positive Skew: Tail is longer on the right side; mean > median > mode.\n",
        "* *Example:* income distribution.\n",
        "\n",
        "* Negative Skew: Tail is longer on the left side; mean < median < mode.\n",
        "\n",
        "* Kurtosis: Measures the \"tailedness\" (peakedness) of the distribution.\n",
        "\n",
        "* High Kurtosis: Data have heavy tails (more outliers).\n",
        "\n",
        "* Low Kurtosis: Data are light-tailed.\n",
        "\n",
        "\n"
      ],
      "metadata": {
        "id": "FBkVqgqyA-xb"
      }
    },
    {
      "cell_type": "code",
      "execution_count": 1,
      "metadata": {
        "colab": {
          "base_uri": "https://localhost:8080/"
        },
        "id": "RaGUiJ-sAI_J",
        "outputId": "d79cdceb-a0dd-4cf0-fe99-3c4381b628cc"
      },
      "outputs": [
        {
          "output_type": "stream",
          "name": "stdout",
          "text": [
            "Mean: 19.6\n",
            "Median: 19\n",
            "Mode: 12\n"
          ]
        }
      ],
      "source": [
        "# 5. Implement a Python program to compute the mean, median, and mode of a given list of numbers.\n",
        "# numbers = [12, 15, 12, 18, 19, 12, 20, 22, 19, 19, 24, 24, 24, 26, 28]\n",
        "\n",
        "import statistics as stats\n",
        "\n",
        "numbers = [12, 15, 12, 18, 19, 12, 20, 22, 19, 19, 24, 24, 24, 26, 28]\n",
        "\n",
        "mean_val = stats.mean(numbers)\n",
        "median_val = stats.median(numbers)\n",
        "mode_val = stats.mode(numbers)\n",
        "\n",
        "print(\"Mean:\", mean_val)\n",
        "print(\"Median:\", median_val)\n",
        "print(\"Mode:\", mode_val)"
      ]
    },
    {
      "cell_type": "code",
      "source": [
        "# 6. Compute the covariance and correlation coefficient between the following two datasets provided as lists in Python:\n",
        "# list_x = [10, 20, 30, 40, 50]\n",
        "# list_y = [15, 25, 35, 45, 60]\n",
        "\n",
        "import numpy as np\n",
        "\n",
        "list_x = [10, 20, 30, 40, 50]\n",
        "list_y = [15, 25, 35, 45, 60]\n",
        "\n",
        "cov_matrix = np.cov(list_x, list_y, bias=False)\n",
        "cov_xy = cov_matrix[0,1]\n",
        "correlation = np.corrcoef(list_x, list_y)[0,1]\n",
        "\n",
        "print(\"Covariance:\", cov_xy)\n",
        "print(\"Correlation Coefficient:\", correlation)"
      ],
      "metadata": {
        "colab": {
          "base_uri": "https://localhost:8080/"
        },
        "id": "k7clYtaHDSIi",
        "outputId": "e0d12853-2a4c-40aa-febf-5e6d8a6df521"
      },
      "execution_count": 2,
      "outputs": [
        {
          "output_type": "stream",
          "name": "stdout",
          "text": [
            "Covariance: 275.0\n",
            "Correlation Coefficient: 0.995893206467704\n"
          ]
        }
      ]
    },
    {
      "cell_type": "code",
      "source": [
        "# 7. Write a Python script to draw a boxplot for the following numeric list and identify its outliers. Explain the result:\n",
        "# data = [12, 14, 14, 15, 18, 19, 19, 21, 22, 22, 23, 23, 24, 26, 29, 35]\n",
        "\n",
        "import matplotlib.pyplot as plt\n",
        "\n",
        "data = [12, 14, 14, 15, 18, 19, 19, 21, 22, 22, 23, 23, 24, 26, 29, 35]\n",
        "\n",
        "plt.boxplot(data)\n",
        "plt.title(\"Boxplot of Data\")\n",
        "plt.show()"
      ],
      "metadata": {
        "colab": {
          "base_uri": "https://localhost:8080/",
          "height": 452
        },
        "id": "gjoTMHJHDg4K",
        "outputId": "13ed1274-839a-4597-e847-957468b4d097"
      },
      "execution_count": 3,
      "outputs": [
        {
          "output_type": "display_data",
          "data": {
            "text/plain": [
              "<Figure size 640x480 with 1 Axes>"
            ],
            "image/png": "[encoded data removed]"
          },
          "metadata": {}
        }
      ]
    },
    {
      "cell_type": "code",
      "source": [
        "# 8. You are working as a data analyst in an e-commerce company. The marketing team wants to know if there is a relationship between advertising spend and daily sales.\n",
        "# ● Explain how you would use covariance and correlation to explore this relationship.\n",
        "# ● Write Python code to compute the correlation between the two lists:\n",
        "# advertising_spend = [200, 250, 300, 400, 500]\n",
        "# daily_sales = [2200, 2450, 2750, 3200, 4000]\n",
        "\n",
        "#Answer:\n",
        "# Covariance: Shows the direction of the relationship. If positive, higher ad spend is associated with higher sales.\n",
        "# Correlation: Standardizes covariance, showing both strength and direction (ranges from -1 to 1). A value close to 1 indicates a strong positive relationship.\n",
        "\n",
        "advertising_spend = [200, 250, 300, 400, 500]\n",
        "daily_sales = [2200, 2450, 2750, 3200, 4000]\n",
        "\n",
        "correlation = np.corrcoef(advertising_spend, daily_sales)[0,1]\n",
        "print(\"Correlation between ad spend and sales:\", correlation)"
      ],
      "metadata": {
        "colab": {
          "base_uri": "https://localhost:8080/"
        },
        "id": "hJZle01lEFur",
        "outputId": "5ada4966-d659-40b4-b2c2-aa64f90e832d"
      },
      "execution_count": 7,
      "outputs": [
        {
          "output_type": "stream",
          "name": "stdout",
          "text": [
            "Correlation between ad spend and sales: 0.9935824101653329\n"
          ]
        }
      ]
    },
    {
      "cell_type": "code",
      "source": [
        "# 9. Your team has collected customer satisfaction survey data on a scale of 1-10 and wants to understand its distribution before launching a new product.\n",
        "# ● Explain which summary statistics and visualizations (e.g. mean, standard deviation, histogram) you’d use.\n",
        "# ● Write Python code to create a histogram using Matplotlib for the survey data:\n",
        "# survey_scores = [7, 8, 5, 9, 6, 7, 8, 9, 10, 4, 7, 6, 9, 8, 7]\n",
        "\n",
        "# Answer:\n",
        "#Summary statistics: Mean, median, standard deviation to know the average satisfaction and variability.\n",
        "#Visualizations: Histogram for distribution shape; boxplot for spread and outliers.\n",
        "\n",
        "survey_scores = [7, 8, 5, 9, 6, 7, 8, 9, 10, 4, 7, 6, 9, 8, 7]\n",
        "\n",
        "print(\"Mean:\", np.mean(survey_scores))\n",
        "print(\"Standard Deviation:\", np.std(survey_scores))\n",
        "\n",
        "plt.hist(survey_scores, bins=6, color=\"skyblue\", edgecolor=\"black\")\n",
        "plt.title(\"Histogram of Survey Scores\")\n",
        "plt.xlabel(\"Score\")\n",
        "plt.ylabel(\"Frequency\")\n",
        "plt.show()"
      ],
      "metadata": {
        "colab": {
          "base_uri": "https://localhost:8080/",
          "height": 508
        },
        "id": "s64nT6dpEY4D",
        "outputId": "9cec3aaa-147d-45e4-b85f-5a4289f7dd5e"
      },
      "execution_count": 9,
      "outputs": [
        {
          "output_type": "stream",
          "name": "stdout",
          "text": [
            "Mean: 7.333333333333333\n",
            "Standard Deviation: 1.577621275493231\n"
          ]
        },
        {
          "output_type": "display_data",
          "data": {
            "text/plain": [
              "<Figure size 640x480 with 1 Axes>"
            ],
            "image/png": "[encoded data removed]"
          },
          "metadata": {}
        }
      ]
    }
  ]
}